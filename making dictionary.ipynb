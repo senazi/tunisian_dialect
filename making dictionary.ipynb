{
 "cells": [
  {
   "cell_type": "code",
   "execution_count": 1,
   "id": "2c6c996d",
   "metadata": {},
   "outputs": [],
   "source": [
    "import pandas as pd\n",
    "import string\n",
    "import os"
   ]
  },
  {
   "cell_type": "code",
   "execution_count": 2,
   "id": "398a79be",
   "metadata": {},
   "outputs": [],
   "source": [
    "def stemmer(word):\n",
    "    first_3 =  ['عال', 'فال','بال','وال']\n",
    "    first_2 =  ['مي', 'مت','ال']\n",
    "    first_1 = ['ا', 'ي', 'ت',  'ن','م']\n",
    "    last_1 = ['و', 'ك','ا']\n",
    "    last_2 = ['نا', 'ني', 'او', 'لو', 'لي', 'لك', 'تو', 'اك''كم', 'يو','هم','وه','يه']\n",
    "    last_3 = ['وهم','وكم','لنا', 'لكم', 'لهم','يهم','فال']\n",
    "\n",
    "    removed = False\n",
    "    # case of negative word (example: 'مايجيكمش')\n",
    "    if word.startswith('ما') and word.startswith('ش') and len(word)>4 :\n",
    "        word = word[2:len(word)-1]\n",
    "    for prefix in first_3:\n",
    "        if word.startswith(prefix) and len(word)>3:\n",
    "            word = word[3:]\n",
    "            removed = True\n",
    "            break\n",
    "    for prefix in first_2:\n",
    "        if word.startswith(prefix) and len(word)>3:\n",
    "            word = word[2:]\n",
    "            removed = True\n",
    "            break\n",
    "    if not(removed):\n",
    "        for prefix in first_1:\n",
    "            if word.startswith(prefix) and len(word)>4:\n",
    "                word = word[1:]\n",
    "                break\n",
    "    removed = False\n",
    "    for prefix in last_3:\n",
    "        if word.endswith(prefix) and len(word)>4:\n",
    "            word = word[0:len(word)-3]\n",
    "            removed = True\n",
    "            break\n",
    "    if not(removed):\n",
    "        for prefix in last_2:\n",
    "            if word.endswith(prefix) and len(word)>3:\n",
    "                word = word[0:len(word)-2]\n",
    "                removed = True\n",
    "                break\n",
    "    if not(removed):\n",
    "        for prefix in last_1:\n",
    "            if word.endswith(prefix) and len(word)>2:\n",
    "                word = word[0:len(word)-1]\n",
    "                break\n",
    "    return word\n",
    "def remove_punctuation(text):\n",
    "    # Get the string of all punctuation characters\n",
    "    punctuation = string.punctuation\n",
    "    punctuation += '؟،'\n",
    "\n",
    "    # Remove punctuation characters from the text\n",
    "    text_without_punctuation = ''.join(char for char in text if char not in punctuation)\n",
    "    return text_without_punctuation"
   ]
  },
  {
   "cell_type": "code",
   "execution_count": 3,
   "id": "a640e9ef",
   "metadata": {},
   "outputs": [],
   "source": [
    "def is_arabic(word):\n",
    "    arabic_letters = []\n",
    "    start = ord('\\u0600')  # Start of Arabic Unicode range\n",
    "    end = ord('\\u06FF')  # End of Arabic Unicode range\n",
    "\n",
    "    # Iterate through the Unicode range and append Arabic letters to the array\n",
    "    for codepoint in range(start, end + 1):\n",
    "        character = chr(codepoint)\n",
    "        arabic_letters.append(character)\n",
    "    for i in word:\n",
    "        if not(i in arabic_letters):\n",
    "            return False\n",
    "    return True\n",
    "\n",
    "\n",
    "def exist(file_path, word):\n",
    "    with open(file_path, 'r', encoding='utf-8') as file:\n",
    "        for line in file:\n",
    "            if (stemmer(word) in line.strip('\\n')):\n",
    "                return True\n",
    "    return False\n"
   ]
  },
  {
   "cell_type": "code",
   "execution_count": 4,
   "id": "bdf0651f",
   "metadata": {},
   "outputs": [
    {
     "name": "stdout",
     "output_type": "stream",
     "text": [
      "Added 4685 words.\n"
     ]
    }
   ],
   "source": [
    "file_path = r'C:\\Users\\Admin\\Desktop\\dict.txt'\n",
    "i = 0\n",
    "datasets_path = r'C:\\Users\\Admin\\Desktop\\datasets'\n",
    "datasets = [os.path.join(datasets_path, file) for file in os.listdir(datasets_path) if file.endswith('.csv')]\n",
    "for dataset in datasets:\n",
    "    df = pd.read_csv(dataset)\n",
    "    first_column_name = df.columns[0]\n",
    "    first_column = df[first_column_name]\n",
    "    # Open the file in append mode\n",
    "    with open(file_path, 'a', encoding='utf-8') as file:\n",
    "        added_words = []\n",
    "        for post in first_column:\n",
    "            # Check if the post is not NaN\n",
    "            if pd.notna(post):\n",
    "                post = remove_punctuation(post)\n",
    "                words = post.split(' ')\n",
    "                for word in words:\n",
    "                    if is_arabic(word):\n",
    "                        stemmed_word = stemmer(word)\n",
    "                        if not (exist(file_path,stemmed_word) or (stemmed_word in added_words)):\n",
    "                            added_words.append(stemmed_word)\n",
    "                            file.write(stemmed_word + '\\n')\n",
    "                            i += 1\n",
    "\n",
    "print(f'Added {i} words.')"
   ]
  },
  {
   "cell_type": "code",
   "execution_count": null,
   "id": "9a9b6d5c",
   "metadata": {},
   "outputs": [],
   "source": []
  },
  {
   "cell_type": "code",
   "execution_count": null,
   "id": "255a7166",
   "metadata": {},
   "outputs": [],
   "source": []
  }
 ],
 "metadata": {
  "kernelspec": {
   "display_name": "Python 3 (ipykernel)",
   "language": "python",
   "name": "python3"
  },
  "language_info": {
   "codemirror_mode": {
    "name": "ipython",
    "version": 3
   },
   "file_extension": ".py",
   "mimetype": "text/x-python",
   "name": "python",
   "nbconvert_exporter": "python",
   "pygments_lexer": "ipython3",
   "version": "3.10.10"
  }
 },
 "nbformat": 4,
 "nbformat_minor": 5
}
